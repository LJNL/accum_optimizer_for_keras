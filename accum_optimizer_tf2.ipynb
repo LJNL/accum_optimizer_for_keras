{
 "cells": [
  {
   "cell_type": "code",
   "execution_count": 2,
   "metadata": {
    "run_control": {
     "marked": true
    }
   },
   "outputs": [],
   "source": [
    "from tensorflow.keras.optimizers import Optimizer\n",
    "import tensorflow as tf"
   ]
  },
  {
   "cell_type": "code",
   "execution_count": 11,
   "metadata": {
    "run_control": {
     "marked": true
    }
   },
   "outputs": [
    {
     "name": "stdout",
     "output_type": "stream",
     "text": [
      "2.1.0\n"
     ]
    }
   ],
   "source": [
    "print(tf.__version__)"
   ]
  },
  {
   "cell_type": "code",
   "execution_count": 126,
   "metadata": {},
   "outputs": [],
   "source": [
    "class AccumOptimizer(Optimizer):\n",
    "    \"\"\"\n",
    "    tf api 实现原作者梯度累计\n",
    "    继承Optimizer类，包装原有优化器，实现梯度累积。\n",
    "    # 参数\n",
    "        optimizer：优化器实例，支持目前所有的keras优化器；\n",
    "        steps_per_update：累积的步数。\n",
    "    # 返回\n",
    "        一个新的keras优化器\n",
    "    \"\"\"\n",
    "    #需要name属性\n",
    "    def __init__(self,optimizer,steps_per_update=1,**kwargs):\n",
    "        self.name=kwargs['name']\n",
    "        super(AccumOptimizer,self).__init__(**kwargs)\n",
    "        self.optimizer=optimizer\n",
    "        with tf.name_scope(self.__class__.__name__):\n",
    "            self.steps_per_update=steps_per_update\n",
    "            self.iterations=tf.Variable(0,dtype='int64',name='iterations')\n",
    "            self.cond=tf.equal(self.iterations%self.steps_per_update,0)\n",
    "            self.lr=self.optimizer.lr\n",
    "            self.optimizer.lr=tf.cond(self.cond,lambda:self.optimizer.lr.value(), lambda:0.)\n",
    "            for attr in ['momentum', 'rho', 'beta_1', 'beta_2']:\n",
    "                if hasattr(self.optimizer,attr):\n",
    "                    #保存操作\n",
    "                    value=getattr(self.optimizer,attr)\n",
    "                    setattr(self, attr, value)\n",
    "                    setattr(self.optimizer, attr, tf.cond(self.cond, lambda:value.value(), lambda:1 - 1e-7))\n",
    "            for attr in self.optimizer.get_config():\n",
    "                print(attr)\n",
    "                if not hasattr(self, attr):\n",
    "                    value = getattr(self.optimizer, attr)\n",
    "                    setattr(self, attr, value)\n",
    "            #必加属性 debug起来好难鸭\n",
    "            self._create_slots=self.optimizer._create_slots\n",
    "            self._resource_apply_dense=self.optimizer._resource_apply_dense\n",
    "            # 覆盖原有的获取梯度方法，指向累积梯度\n",
    "            \n",
    "            def get_gradients(loss,params):\n",
    "                return [ag / self.steps_per_update for ag in self.accum_grads]\n",
    "            self.optimizer.get_gradients = get_gradients\n",
    "    def get_updates(self,loss,params):\n",
    "        self.iterations=tf.add(self.iterations, 1)\n",
    "        self.optimizer.iterations=tf.add(self.optimizer.iterations, tf.cast(self.cond, 'int64'))\n",
    "        self.updates=[\n",
    "            self.iterations,\n",
    "            self.optimizer.iterations\n",
    "        ]\n",
    "        # 累积梯度 (gradient accumulation)\n",
    "        self.accum_grads = [tf.zeros(p.shape,dtype=p.dtype) for p in params]\n",
    "        grads = self.get_gradients(loss, params)\n",
    "                                     \n",
    "        for g, ag in zip(grads, self.accum_grads):\n",
    "            self.updates.append(ag=tf.cond(self.cond,lambda:g,lambda:ag+g))\n",
    "        \n",
    "        # 继承optimizer的更新 (inheriting updates of original optimizer)\n",
    "        self.updates.extend(self.optimizer.get_updates(loss, params)[1:])\n",
    "        self.weights.extend(self.optimizer.weights)\n",
    "        return self.updates     \n",
    "    \n",
    "    def get_config(self):\n",
    "        iterations = self.iterations.numpy()\n",
    "        self.iterations=0\n",
    "        config = self.optimizer.get_config()\n",
    "        self.iterations=iterations\n",
    "        return config"
   ]
  },
  {
   "cell_type": "code",
   "execution_count": null,
   "metadata": {},
   "outputs": [],
   "source": [
    "c.optimizer._resource_apply_dense"
   ]
  },
  {
   "cell_type": "code",
   "execution_count": 65,
   "metadata": {},
   "outputs": [],
   "source": [
    "\n",
    "from tensorflow.keras.datasets import mnist\n",
    "from tensorflow.keras.models import Sequential\n",
    "from tensorflow.keras.layers import Dense, Dropout\n",
    "from tensorflow.keras.optimizers import Adam"
   ]
  },
  {
   "cell_type": "code",
   "execution_count": 130,
   "metadata": {
    "run_control": {
     "marked": true
    },
    "scrolled": false
   },
   "outputs": [
    {
     "name": "stdout",
     "output_type": "stream",
     "text": [
      "60000 train samples\n",
      "10000 test samples\n",
      "Model: \"sequential_12\"\n",
      "_________________________________________________________________\n",
      "Layer (type)                 Output Shape              Param #   \n",
      "=================================================================\n",
      "dense_36 (Dense)             (None, 512)               401920    \n",
      "_________________________________________________________________\n",
      "dropout_24 (Dropout)         (None, 512)               0         \n",
      "_________________________________________________________________\n",
      "dense_37 (Dense)             (None, 512)               262656    \n",
      "_________________________________________________________________\n",
      "dropout_25 (Dropout)         (None, 512)               0         \n",
      "_________________________________________________________________\n",
      "dense_38 (Dense)             (None, 10)                5130      \n",
      "=================================================================\n",
      "Total params: 669,706\n",
      "Trainable params: 669,706\n",
      "Non-trainable params: 0\n",
      "_________________________________________________________________\n",
      "name\n",
      "learning_rate\n",
      "decay\n",
      "beta_1\n",
      "beta_2\n",
      "epsilon\n",
      "amsgrad\n",
      "Train on 60000 samples, validate on 10000 samples\n",
      "60000/60000 [==============================] - 363s 6ms/sample - loss: 0.2233 - accuracy: 0.9352 - val_loss: 0.1224 - val_accuracy: 0.9668\n",
      "Test loss: 0.12237521053504898\n",
      "Test accuracy: 0.9668\n"
     ]
    }
   ],
   "source": [
    "batch_size = 128\n",
    "num_classes = 10\n",
    "epochs = 1\n",
    "\n",
    "# the data, split between train and test sets\n",
    "(x_train, y_train), (x_test, y_test) = mnist.load_data()\n",
    "\n",
    "x_train = x_train.reshape(60000, 784)\n",
    "x_test = x_test.reshape(10000, 784)\n",
    "x_train = x_train.astype('float32')\n",
    "x_test = x_test.astype('float32')\n",
    "x_train /= 255\n",
    "x_test /= 255\n",
    "print(x_train.shape[0], 'train samples')\n",
    "print(x_test.shape[0], 'test samples')\n",
    "\n",
    "# convert class vectors to binary class matrices\n",
    "y_train = keras.utils.to_categorical(y_train, num_classes)\n",
    "y_test = keras.utils.to_categorical(y_test, num_classes)\n",
    "\n",
    "model = Sequential()\n",
    "model.add(Dense(512, activation='relu', input_shape=(784,)))\n",
    "model.add(Dropout(0.2))\n",
    "model.add(Dense(512, activation='relu'))\n",
    "model.add(Dropout(0.2))\n",
    "model.add(Dense(num_classes, activation='softmax'))\n",
    "\n",
    "model.summary()\n",
    "\n",
    "model.compile(loss='categorical_crossentropy',\n",
    "              optimizer=AccumOptimizer(Adam(), steps_per_update=100,name=\"ag_adam\"), # equals batch_size=100\n",
    "              #optimizer=Adam(),\n",
    "              #optimizer=b,\n",
    "              metrics=['accuracy'])\n",
    "\n",
    "history = model.fit(x_train, y_train,\n",
    "                    batch_size=1,\n",
    "                    epochs=epochs,\n",
    "                    verbose=1,\n",
    "                    validation_data=(x_test, y_test))\n",
    "\n",
    "score = model.evaluate(x_test, y_test, verbose=0)\n",
    "print('Test loss:', score[0])\n",
    "print('Test accuracy:', score[1])\n"
   ]
  },
  {
   "cell_type": "code",
   "execution_count": 129,
   "metadata": {},
   "outputs": [
    {
     "name": "stdout",
     "output_type": "stream",
     "text": [
      "60000 train samples\n",
      "10000 test samples\n",
      "Model: \"sequential_11\"\n",
      "_________________________________________________________________\n",
      "Layer (type)                 Output Shape              Param #   \n",
      "=================================================================\n",
      "dense_33 (Dense)             (None, 512)               401920    \n",
      "_________________________________________________________________\n",
      "dropout_22 (Dropout)         (None, 512)               0         \n",
      "_________________________________________________________________\n",
      "dense_34 (Dense)             (None, 512)               262656    \n",
      "_________________________________________________________________\n",
      "dropout_23 (Dropout)         (None, 512)               0         \n",
      "_________________________________________________________________\n",
      "dense_35 (Dense)             (None, 10)                5130      \n",
      "=================================================================\n",
      "Total params: 669,706\n",
      "Trainable params: 669,706\n",
      "Non-trainable params: 0\n",
      "_________________________________________________________________\n",
      "Train on 60000 samples, validate on 10000 samples\n",
      "60000/60000 [==============================] - 299s 5ms/sample - loss: 0.3674 - accuracy: 0.9096 - val_loss: 0.1785 - val_accuracy: 0.9575\n",
      "Test loss: 0.17850156284979166\n",
      "Test accuracy: 0.9575\n"
     ]
    }
   ],
   "source": [
    "batch_size = 128\n",
    "num_classes = 10\n",
    "epochs = 1\n",
    "\n",
    "# the data, split between train and test sets\n",
    "(x_train, y_train), (x_test, y_test) = mnist.load_data()\n",
    "\n",
    "x_train = x_train.reshape(60000, 784)\n",
    "x_test = x_test.reshape(10000, 784)\n",
    "x_train = x_train.astype('float32')\n",
    "x_test = x_test.astype('float32')\n",
    "x_train /= 255\n",
    "x_test /= 255\n",
    "print(x_train.shape[0], 'train samples')\n",
    "print(x_test.shape[0], 'test samples')\n",
    "\n",
    "# convert class vectors to binary class matrices\n",
    "y_train = keras.utils.to_categorical(y_train, num_classes)\n",
    "y_test = keras.utils.to_categorical(y_test, num_classes)\n",
    "\n",
    "model = Sequential()\n",
    "model.add(Dense(512, activation='relu', input_shape=(784,)))\n",
    "model.add(Dropout(0.2))\n",
    "model.add(Dense(512, activation='relu'))\n",
    "model.add(Dropout(0.2))\n",
    "model.add(Dense(num_classes, activation='softmax'))\n",
    "\n",
    "model.summary()\n",
    "\n",
    "model.compile(loss='categorical_crossentropy',\n",
    "              #optimizer=AccumOptimizer(Adam(), steps_per_update=100,name=\"ag_adam\"), # equals batch_size=100\n",
    "              optimizer=Adam(),\n",
    "              #optimizer=b,\n",
    "              metrics=['accuracy'])\n",
    "\n",
    "history = model.fit(x_train, y_train,\n",
    "                    batch_size=1,\n",
    "                    epochs=epochs,\n",
    "                    verbose=1,\n",
    "                    validation_data=(x_test, y_test))\n",
    "\n",
    "score = model.evaluate(x_test, y_test, verbose=0)\n",
    "print('Test loss:', score[0])\n",
    "print('Test accuracy:', score[1])\n"
   ]
  },
  {
   "cell_type": "code",
   "execution_count": null,
   "metadata": {},
   "outputs": [],
   "source": []
  }
 ],
 "metadata": {
  "kernelspec": {
   "display_name": "Python 3",
   "language": "python",
   "name": "python3"
  },
  "language_info": {
   "codemirror_mode": {
    "name": "ipython",
    "version": 3
   },
   "file_extension": ".py",
   "mimetype": "text/x-python",
   "name": "python",
   "nbconvert_exporter": "python",
   "pygments_lexer": "ipython3",
   "version": "3.7.4"
  },
  "toc": {
   "base_numbering": 1,
   "nav_menu": {},
   "number_sections": true,
   "sideBar": true,
   "skip_h1_title": false,
   "title_cell": "Table of Contents",
   "title_sidebar": "Contents",
   "toc_cell": false,
   "toc_position": {},
   "toc_section_display": true,
   "toc_window_display": false
  }
 },
 "nbformat": 4,
 "nbformat_minor": 2
}
